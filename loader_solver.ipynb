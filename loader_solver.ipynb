{
 "cells": [
  {
   "cell_type": "code",
   "execution_count": 2,
   "metadata": {},
   "outputs": [
    {
     "name": "stdout",
     "output_type": "stream",
     "text": [
      "do u a another question(y/n)y\n",
      ":LEVELS:\n",
      "1.Beginner\n",
      "2.Easy\n",
      "3.Medium\n",
      "4.Hard\n",
      "Level Number:4\n",
      "[[5 0 7 9 3 0 2 4 0]\n",
      " [0 0 0 1 8 4 5 0 7]\n",
      " [0 0 4 5 7 0 6 0 0]\n",
      " [0 9 0 0 5 7 0 2 1]\n",
      " [0 0 1 3 0 0 0 7 5]\n",
      " [0 5 0 8 0 0 0 9 0]\n",
      " [8 0 0 7 0 5 0 6 0]\n",
      " [1 0 6 2 9 0 0 5 3]\n",
      " [2 0 0 0 1 3 9 8 0]]\n",
      "do u a another question(y/n)n\n"
     ]
    }
   ],
   "source": [
    "import numpy as np\n",
    "import random\n",
    "\n",
    "a = [[5,1,7,9,3,6,2,4,8],\n",
    "     [9,6,2,1,8,4,5,3,7],\n",
    "     [3,8,4,5,7,2,6,1,9],\n",
    "     [6,9,8,4,5,7,3,2,1],\n",
    "     [4,2,1,3,6,9,8,7,5],\n",
    "     [7,5,3,8,2,1,4,9,6],\n",
    "     [8,3,9,7,4,5,1,6,2],\n",
    "     [1,4,6,2,9,8,7,5,3],\n",
    "     [2,7,5,6,1,3,9,8,4]]\n",
    "\n",
    "c = np.array([[5,1,7,9,3,6,2,4,8],\n",
    "              [9,6,2,1,8,4,5,3,7],\n",
    "              [3,8,4,5,7,2,6,1,9],\n",
    "              [6,9,8,4,5,7,3,2,1],\n",
    "              [4,2,1,3,6,9,8,7,5],\n",
    "              [7,5,3,8,2,1,4,9,6],\n",
    "              [8,3,9,7,4,5,1,6,2],\n",
    "              [1,4,6,2,9,8,7,5,3],\n",
    "              [2,7,5,6,1,3,9,8,4]])\n",
    "\n",
    "d = c\n",
    "\n",
    "\n",
    "def more():\n",
    "    \n",
    "    print(\":LEVELS:\")\n",
    "    print(\"1.Beginner\")\n",
    "    print(\"2.Easy\")\n",
    "    print(\"3.Medium\")\n",
    "    print(\"4.Hard\")\n",
    "\n",
    "    l = input(\"Level Number:\")\n",
    "\n",
    "    if(l == '1'):\n",
    "        for i in range(23):\n",
    "            r1 = random.randint(0,8)\n",
    "            r2 = random.randint(0,8)\n",
    "            c[r1][r2] = 0\n",
    "\n",
    "\n",
    "    elif(l == '2'):\n",
    "        for i in range(36):\n",
    "            r1 = random.randint(0,8)\n",
    "            r2 = random.randint(0,8)\n",
    "            c[r1][r2] = 0\n",
    "\n",
    "\n",
    "    elif(l == '3'):\n",
    "        for i in range(45):\n",
    "            r1 = random.randint(0,8)\n",
    "            r2 = random.randint(0,8)\n",
    "            c[r1][r2] = 0\n",
    "\n",
    "\n",
    "    elif(l == '4'):\n",
    "        for i in range(53):\n",
    "            r1 = random.randint(0,8)\n",
    "            r2 = random.randint(0,8)\n",
    "            c[r1][r2] = 0\n",
    "\n",
    "    print(c)\n",
    "    \n",
    "s='y'\n",
    "\n",
    "while(input(\"do u a another question(y/n):\")!='n'):\n",
    "    more()\n",
    "    "
   ]
  },
  {
   "cell_type": "code",
   "execution_count": 7,
   "metadata": {},
   "outputs": [
    {
     "name": "stdout",
     "output_type": "stream",
     "text": [
      "question[[5 0 7 9 3 0 2 4 0]  [0 0 0 1 8 4 5 0 7]  [0 0 4 5 7 0 6 0 0]  [0 9 0 0 5 7 0 2 1]  [0 0 1 3 0 0 0 7 5]  [0 5 0 8 0 0 0 9 0]  [8 0 0 7 0 5 0 6 0]  [1 0 6 2 9 0 0 5 3]  [2 0 0 0 1 3 0 0 0]]\n"
     ]
    }
   ],
   "source": [
    "import numpy as np\n",
    "\n",
    "qq = input(\"question\")\n",
    "qq = qq.split('  ')\n",
    "for i in range(9):\n",
    "    qq[i] = qq[i].split(' ')\n",
    "    if i is 0:\n",
    "        qq[i][0] = qq[i][0][2]\n",
    "        qq[i][8] = qq[i][8][0]\n",
    "    elif i is 8:\n",
    "        qq[i][8] = qq[i][8][0]\n",
    "        qq[i][0] = qq[i][0][1]\n",
    "    else:\n",
    "        qq[i][0] = qq[i][0][1]\n",
    "        qq[i][8] = qq[i][8][0]\n",
    "            \n",
    "    for j in range(9):\n",
    "        qq[i][j] = int(qq[i][j])\n",
    "        \n",
    "#print(np.matrix(qq))"
   ]
  },
  {
   "cell_type": "code",
   "execution_count": 8,
   "metadata": {},
   "outputs": [],
   "source": [
    "def satisfaction(i,j,n):\n",
    "    global qq\n",
    "    for m1 in range(9):\n",
    "        if qq[i][m1] == n:\n",
    "            return False\n",
    "    for m1 in range(9):\n",
    "        if qq[m1][j] == n:\n",
    "            return False\n",
    "    for m1 in range((i//3)*3,(i//3+1)*3):\n",
    "        for m2 in range((j//3)*3,(j//3+1)*3):\n",
    "            if qq[m1][m2] == n:\n",
    "                return False\n",
    "    return True"
   ]
  },
  {
   "cell_type": "code",
   "execution_count": 11,
   "metadata": {},
   "outputs": [],
   "source": [
    "def solution():\n",
    "    global qq\n",
    "    for i in range(9):\n",
    "        for j in range(9):\n",
    "            if qq[i][j] == 0:\n",
    "                for k in range(1,10):\n",
    "                    if satisfaction(i,j,k):\n",
    "                        qq[i][j] = k\n",
    "                        solution()\n",
    "                        qq[i][j] = 0\n",
    "                return\n",
    "    print(np.matrix(qq))\n",
    "    #input(\"do u need another solution if possible?\")"
   ]
  },
  {
   "cell_type": "code",
   "execution_count": 12,
   "metadata": {},
   "outputs": [
    {
     "name": "stdout",
     "output_type": "stream",
     "text": [
      "[[5 1 7 9 3 6 2 4 8]\n",
      " [9 6 2 1 8 4 5 3 7]\n",
      " [3 8 4 5 7 2 6 1 9]\n",
      " [6 9 8 4 5 7 3 2 1]\n",
      " [4 2 1 3 6 9 8 7 5]\n",
      " [7 5 3 8 2 1 4 9 6]\n",
      " [8 3 9 7 4 5 1 6 2]\n",
      " [1 4 6 2 9 8 7 5 3]\n",
      " [2 7 5 6 1 3 9 8 4]]\n"
     ]
    }
   ],
   "source": [
    "solution()"
   ]
  },
  {
   "cell_type": "code",
   "execution_count": null,
   "metadata": {},
   "outputs": [],
   "source": []
  }
 ],
 "metadata": {
  "kernelspec": {
   "display_name": "Python 3",
   "language": "python",
   "name": "python3"
  }
 },
 "nbformat": 4,
 "nbformat_minor": 4
}
